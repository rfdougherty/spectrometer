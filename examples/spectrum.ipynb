{
 "cells": [
  {
   "cell_type": "code",
   "execution_count": 69,
   "id": "7c2f0729-6c2c-4ffb-87d9-20ecb3f62f8e",
   "metadata": {
    "tags": []
   },
   "outputs": [],
   "source": [
    "%%capture\n",
    "%pip install pandas matplotlib"
   ]
  },
  {
   "cell_type": "code",
   "execution_count": 28,
   "id": "505b3ddc-bfbd-4f52-a74f-28632d0a77cb",
   "metadata": {
    "tags": []
   },
   "outputs": [],
   "source": [
    "import time\n",
    "import requests\n",
    "import pandas as pd\n",
    "import matplotlib.pyplot as plt\n",
    "\n",
    "URL = \"http://192.168.0.249\"\n",
    "r = requests.get(f\"{URL}/wavelength\")\n",
    "nm = r.json()[\"nm\"]"
   ]
  },
  {
   "cell_type": "code",
   "execution_count": null,
   "id": "8b3d1337-1254-401b-a429-628482677e35",
   "metadata": {
    "tags": []
   },
   "outputs": [],
   "source": [
    "start = time.time()\n",
    "readings = []\n",
    "intusec = 5000\n",
    "intstep = 500\n",
    "valmin, valmax = 1900, 2100\n",
    "while time.time() - start < 60*60*2:\n",
    "    tries = 0\n",
    "    retry = True\n",
    "    while tries < 10 and retry:\n",
    "        r = requests.get(f\"{URL}/spectrum/{intusec}\")\n",
    "        data = r.json()\n",
    "        y = data[\"spec\"]\n",
    "        maxval = max(y)\n",
    "        if maxval < valmin:\n",
    "            intusec += intstep\n",
    "            retry = True\n",
    "        elif maxval > valmax:\n",
    "            intusec -= intstep\n",
    "            retry = True\n",
    "        else:\n",
    "            retry = False\n",
    "        tries += 1\n",
    "        print(\".\", end=\"\", flush=True)\n",
    "        \n",
    "    print(f\"ts={data['ts']}, readtimes={data['readtimes']}, maxval={maxval}, {tries=}\")\n",
    "    readings.append(data)\n",
    "    time.sleep(60)"
   ]
  },
  {
   "cell_type": "code",
   "execution_count": null,
   "id": "9f21a12d-5e4b-4094-9ed8-104495dd135f",
   "metadata": {
    "tags": []
   },
   "outputs": [],
   "source": [
    "df = pd.json_normalize(readings)\n",
    "df[\"time\"] = pd.to_datetime(df.ts, unit=\"s\") - datetime.timedelta(hours=7)\n",
    "df.head()"
   ]
  },
  {
   "cell_type": "code",
   "execution_count": null,
   "id": "fd9877e3-b31b-4773-a557-761947c0b5e9",
   "metadata": {
    "tags": []
   },
   "outputs": [],
   "source": [
    "fig, ax = plt.subplots(1, 1, figsize=(8,4))\n",
    "ax.set_title(\"Spectrum\")\n",
    "ax.set_xlabel(\"Wavelength (nm)\")\n",
    "ax.set_ylabel(\"Relative spectrum\")\n",
    "#ax.set_ylim([0, 3.5])\n",
    "ax.set_xlim([300, 890])\n",
    "for i in range(1, len(df), 1):\n",
    "    y = [x / df.loc[i, \"integration\"] for x in df.loc[i, \"spec\"]]\n",
    "    ax.plot(nm, y, label=df.loc[i, \"time\"])\n",
    "#ax.legend()\n",
    "plt.show()"
   ]
  },
  {
   "cell_type": "code",
   "execution_count": null,
   "id": "69f513f7-ac4d-45cc-99a6-a68191c09dea",
   "metadata": {
    "tags": []
   },
   "outputs": [],
   "source": [
    "fig, ax = plt.subplots(1, 1, figsize=(8,4))\n",
    "ax.set_title(\"Spectrum\")\n",
    "ax.set_xlabel(\"Wavelength (nm)\")\n",
    "ax.set_ylabel(\"Relative spectrum\")\n",
    "#ax.set_ylim([0, 3.5])\n",
    "ax.set_xlim([300, 890])\n",
    "ref = df.loc[0, \"spec\"]\n",
    "for i in range(1, len(df), 10):\n",
    "    y = [r - x for r,x in zip(ref, df.loc[i, \"spec\"])]\n",
    "    ax.plot(nm, y, label=df.loc[i, \"time\"])\n",
    "#ax.legend()\n",
    "plt.show()"
   ]
  }
 ],
 "metadata": {
  "kernelspec": {
   "display_name": "Python 3 (ipykernel)",
   "language": "python",
   "name": "python3"
  },
  "language_info": {
   "codemirror_mode": {
    "name": "ipython",
    "version": 3
   },
   "file_extension": ".py",
   "mimetype": "text/x-python",
   "name": "python",
   "nbconvert_exporter": "python",
   "pygments_lexer": "ipython3",
   "version": "3.11.9"
  }
 },
 "nbformat": 4,
 "nbformat_minor": 5
}
