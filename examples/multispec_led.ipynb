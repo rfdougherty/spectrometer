{
 "cells": [
  {
   "cell_type": "code",
   "execution_count": null,
   "id": "7c2f0729-6c2c-4ffb-87d9-20ecb3f62f8e",
   "metadata": {
    "tags": []
   },
   "outputs": [],
   "source": [
    "%%capture\n",
    "%pip install pandas matplotlib plotly nbformat ipywidgets scipy kaleido"
   ]
  },
  {
   "cell_type": "code",
   "execution_count": null,
   "id": "505b3ddc-bfbd-4f52-a74f-28632d0a77cb",
   "metadata": {
    "tags": []
   },
   "outputs": [],
   "source": [
    "import time\n",
    "import datetime\n",
    "import requests\n",
    "import pandas as pd\n",
    "import plotly.express as px\n",
    "import matplotlib.pyplot as plt\n",
    "import nbformat\n",
    "import numpy as np\n",
    "from scipy.signal import find_peaks\n",
    "\n",
    "nbformat.current_nbformat\n",
    "\n",
    "def find_peak_value(array):\n",
    "    \"\"\"\n",
    "    Find the maximum peak value in a 1D array. E.g.:\n",
    "    peak_value, peak_index = find_peak_value(data)\n",
    "    \n",
    "    Args:\n",
    "        array (array-like): 1D numeric array\n",
    "        \n",
    "    Returns:\n",
    "        tuple: (peak_value, peak_index)\n",
    "    \"\"\"\n",
    "    # Convert input to numpy array if it isn't already\n",
    "    array = np.array(array)\n",
    "    \n",
    "    # Find all peaks\n",
    "    peak_indices, _ = find_peaks(array)\n",
    "    \n",
    "    # If no peaks found, return the maximum value and its index\n",
    "    if len(peak_indices) == 0:\n",
    "        max_index = np.argmax(array)\n",
    "        return array[max_index], max_index\n",
    "    \n",
    "    # Find the highest peak\n",
    "    peak_values = array[peak_indices]\n",
    "    max_peak_idx = np.argmax(peak_values)\n",
    "    \n",
    "    return peak_values[max_peak_idx], peak_indices[max_peak_idx]\n",
    "\n",
    "\n",
    "def find_nearest_value(array, value):\n",
    "  \"\"\"Finds the nearest value in the array to the given value.\"\"\"\n",
    "  array = np.asarray(array)\n",
    "  idx = (np.abs(array - value)).argmin()\n",
    "  return array[idx]"
   ]
  },
  {
   "cell_type": "markdown",
   "id": "41256f98-5fa6-4329-8ca9-91e68682cc27",
   "metadata": {},
   "source": [
    "## Plot Spectra"
   ]
  },
  {
   "cell_type": "code",
   "execution_count": null,
   "id": "50608a12-805d-4d09-aec5-76a378037cfc",
   "metadata": {
    "tags": []
   },
   "outputs": [],
   "source": [
    "avgspecdf = pd.read_csv(\"data/led_spectra_202412071247.csv.gz\")\n",
    "peakdf = pd.read_csv(\"data/led_peaks_202412071247.csv\")"
   ]
  },
  {
   "cell_type": "code",
   "execution_count": 30,
   "id": "2d3f7567-04a5-4d03-949e-19f141c321ea",
   "metadata": {
    "tags": []
   },
   "outputs": [],
   "source": [
    "# Constants for plots below\n",
    "colors = ['#636EFA', '#EF553B']\n",
    "FONTCOLOR = 'rgba(0.4,0.4,0.4,1.0)'\n",
    "GRIDCOLOR = 'rgba(0.85,0.85,0.9,0.5)'\n",
    "FONTSIZE = 16\n",
    "# Cursor chat query :\n",
    "# create a list of 15 html hex colors that roughly match the perceved color of the following \n",
    "# wavelengths of light (in nanometers): [270,405,448,470,505,530,568,591,617,627,655,740,850,940]. \n",
    "# Please use python syntax.\n",
    "cmap = [\n",
    "    '#4B0082',  # ~270nm (UV approximated as deep indigo)\n",
    "    '#8B00FF',  # ~405nm (violet)\n",
    "    '#0000FF',  # ~448nm (blue)\n",
    "    '#0080FF',  # ~470nm (light blue)\n",
    "    '#00FF90',  # ~505nm (blue-green)\n",
    "    '#00FF00',  # ~530nm (green)\n",
    "    '#9FEE00',  # ~568nm (yellow-green)\n",
    "    '#DDDD00',  # ~591nm (yellow)\n",
    "    '#FF8000',  # ~617nm (orange)\n",
    "    '#FF4000',  # ~627nm (orange-red)\n",
    "    '#FF0000',  # ~655nm (red)\n",
    "    '#CC0000',  # ~740nm (deep red)\n",
    "    '#990000',  # ~850nm (IR approximated as very deep red)\n",
    "    '#660000',  # ~940nm (IR approximated as darkest visible red)\n",
    "]"
   ]
  },
  {
   "cell_type": "code",
   "execution_count": null,
   "id": "83bad5bf-e8dc-45f6-bfab-e2ee02520c08",
   "metadata": {
    "tags": []
   },
   "outputs": [],
   "source": [
    "fig = px.line(avgspecdf, x=\"nm\", y=\"spec\", color=\"led\", color_discrete_sequence=cmap,\n",
    "             labels={\"nm\": 'Wavelength (nm)', \"spec\": \"Spectrometer Voltage (mv)\", \"led\": \"LED ID\"})\n",
    "fig.update_layout(width=850, height=480, font=dict(size=FONTSIZE, color=FONTCOLOR), \n",
    "                  paper_bgcolor='rgba(0,0,0,0)', plot_bgcolor='rgba(0,0,0,0)',\n",
    "                  xaxis_gridcolor=GRIDCOLOR, yaxis_gridcolor=GRIDCOLOR,\n",
    "                  legend=dict(font_size=FONTSIZE - 2)) #yanchor=\"top\", y=0.99, xanchor=\"right\", x=0.95\n",
    "\n",
    "fig.update_yaxes(showgrid=True, showline=True, zerolinecolor=GRIDCOLOR)\n",
    "fig.update_xaxes(showgrid=True, showline=True, zerolinecolor=GRIDCOLOR)\n",
    "fig.write_image(\"multispec_spectra.png\", scale=2)\n",
    "fig.show()"
   ]
  },
  {
   "cell_type": "code",
   "execution_count": null,
   "id": "99ac57ef-7158-437f-a105-1fffad371d10",
   "metadata": {
    "tags": []
   },
   "outputs": [],
   "source": [
    "print(peakdf.to_string(index=False))"
   ]
  },
  {
   "cell_type": "code",
   "execution_count": null,
   "id": "9b7be788-9667-403c-b9f9-3bb43f8afa59",
   "metadata": {
    "tags": []
   },
   "outputs": [],
   "source": [
    "specdf = pd.read_csv(\"led_spectra_raw_202412071247.csv.gz\")\n",
    "print(specdf.shape)\n",
    "specdf.head()"
   ]
  },
  {
   "cell_type": "code",
   "execution_count": null,
   "id": "48524fa0-73df-446a-9f8a-beb1c233ace3",
   "metadata": {
    "tags": []
   },
   "outputs": [],
   "source": [
    "led = \"led591\" #\"led405\" \"led530\" \"led568\" \"led591\"\n",
    "\n",
    "fig = px.line(specdf.loc[specdf.led == led], x=\"nm\", y=\"spec\", color=\"integ\",\n",
    "             labels={\"nm\": 'Wavelength (nm)', \"spec\": \"Spectrometer Voltage (mv)\"})\n",
    "fig.update_layout(width=850, height=480, font=dict(size=FONTSIZE, color=FONTCOLOR), \n",
    "                  paper_bgcolor='rgba(0,0,0,0)', plot_bgcolor='rgba(0,0,0,0)',\n",
    "                  xaxis_gridcolor=GRIDCOLOR, yaxis_gridcolor=GRIDCOLOR,\n",
    "                  legend=dict(font_size=FONTSIZE - 2)) #yanchor=\"top\", y=0.99, xanchor=\"right\", x=0.95\n",
    "\n",
    "fig.update_yaxes(showgrid=True, showline=True, zerolinecolor=GRIDCOLOR)\n",
    "fig.update_xaxes(showgrid=True, showline=True, zerolinecolor=GRIDCOLOR)\n",
    "#fig.write_image(\"multispec_spectra_reproducible.png\", scale=2)\n",
    "fig.show()"
   ]
  },
  {
   "cell_type": "markdown",
   "id": "52fa50de-9d99-4191-9b92-918c28d0769d",
   "metadata": {
    "tags": []
   },
   "source": [
    "## Measure Spectra"
   ]
  },
  {
   "cell_type": "code",
   "execution_count": null,
   "id": "6739364b-adbe-45b3-8df5-d4cf01a59eae",
   "metadata": {
    "tags": []
   },
   "outputs": [],
   "source": [
    "SPECURL = \"http://192.168.0.248\"\n",
    "r = requests.get(f\"{SPECURL}/wavelength\")\n",
    "nm = r.json()[\"nm\"]\n",
    "xrange = [np.floor(min(nm))-1, np.ceil(max(nm))+1]\n",
    "leds = [270,405,448,470,505,530,568,591,617,627,655,740,850,940]\n",
    "specs = {nm:[] for nm in leds}"
   ]
  },
  {
   "cell_type": "markdown",
   "id": "208e4e96-7691-4692-976c-85e26fc74e7e",
   "metadata": {},
   "source": [
    "### Set integration time\n",
    "Run the following to set the integration time for the current LED to be measured. The spectral peak is used to guess which LED has been measured. However, for some edge-cases the peak is misleading. E.g., the 560nm phosphor LED has a peak around 530nm (the spec of 560nm is the center-of-mass of this LED's broad spectrum). The peak for LEDs with peaks outside the spectrometer's specified range of 340nm - 850nm (the actual range is dependent on the calibration parameters for each device, but should be about 310 - 883"
   ]
  },
  {
   "cell_type": "code",
   "execution_count": null,
   "id": "40668dcd-aae9-41fe-9089-f13af0faf915",
   "metadata": {
    "tags": []
   },
   "outputs": [],
   "source": [
    "intusec = 1000\n",
    "lednm_override = None\n",
    "MIN_VAL, MAX_VAL = 500, 2800\n",
    "\n",
    "data = requests.get(f\"{SPECURL}/spectrum/{intusec}\").json()\n",
    "pk, pkidx = find_peak_value(data[\"spec\"])\n",
    "pknm = nm[pkidx]\n",
    "led_nm = find_nearest_value(leds, pknm) if lednm_override is None else lednm_override\n",
    "fig = px.line(x=nm, y=data[\"spec\"], labels={\"nm\": 'Wavelength (nm)', \"spec\": \"Voltage (mv)\"})\n",
    "fig.update_layout(width=850, height=480, font=dict(size=FONTSIZE, color=FONTCOLOR), \n",
    "                  paper_bgcolor='rgba(0,0,0,0)', plot_bgcolor='rgba(0,0,0,0)',\n",
    "                  xaxis_gridcolor=GRIDCOLOR, yaxis_gridcolor=GRIDCOLOR,\n",
    "                  legend=dict(font_size=FONTSIZE - 2)) #yanchor=\"top\", y=0.99, xanchor=\"right\", x=0.95\n",
    "fig.update_yaxes(showgrid=True, showline=True, zerolinecolor=GRIDCOLOR)\n",
    "fig.update_xaxes(showgrid=True, range=xrange, showline=True, zerolinecolor=GRIDCOLOR)\n",
    "readtimes = data[\"readtimes\"]\n",
    "print(f\"actual integration time={readtimes[2] - readtimes[0]} usec (readtimes={readtimes})\")\n",
    "print(f\"{led_nm=}, {pknm=}, {pk=}\")\n",
    "fig.show()"
   ]
  },
  {
   "cell_type": "code",
   "execution_count": null,
   "id": "67edc2e3-2ba2-47d1-9114-6e7a1ed57a37",
   "metadata": {
    "tags": []
   },
   "outputs": [],
   "source": [
    "n = 30\n",
    "for cnt in range(n):\n",
    "    data = requests.get(f\"{SPECURL}/spectrum/{intusec}\").json()\n",
    "    pk, pkidx = find_peak_value(data[\"spec\"])\n",
    "    y = data[\"spec\"]\n",
    "    if pk < MIN_VAL or pk > MAX_VAL:\n",
    "        data = requests.get(f\"{SPECURL}/spectrum/{intusec}\").json()\n",
    "        pk, pkidx = find_peak_value(data[\"spec\"])\n",
    "        if pk < MIN_VAL or pk > MAX_VAL:\n",
    "            print(f\"peak voltage {pk} our of range; stopping.\")\n",
    "            break\n",
    "    pknm = nm[pkidx]\n",
    "    #led_nm = find_nearest_value(leds, pknm)\n",
    "    led_nm = find_nearest_value(leds, pknm) if lednm_override is None else lednm_override\n",
    "    #if led_nm != target:\n",
    "    #    print(f\"Peak does not match target {pknm=}, {target=}, {led_nm=}\")\n",
    "    #    break\n",
    "    specs[led_nm].append(data)\n",
    "    print(f\"{led_nm=}, pknm={nm[pkidx]}, {pk=}, readtimes={data['readtimes']}\")\n",
    "    time.sleep(0.25)\n"
   ]
  },
  {
   "cell_type": "markdown",
   "id": "3ab5d40a-c7f4-4972-95ec-626eaafc510d",
   "metadata": {
    "tags": []
   },
   "source": [
    "## Run the following to save data"
   ]
  },
  {
   "cell_type": "code",
   "execution_count": null,
   "id": "657a5f29-82d4-45e1-8c81-d516b153840a",
   "metadata": {
    "tags": []
   },
   "outputs": [],
   "source": [
    "print(\" \".join([f\"{k}:{len(v)}\" for k,v in specs.items()]))\n",
    "ts = datetime.datetime.now().strftime(\"%Y%m%d%H%M%S\")\n",
    "# Save the raw json payloads\n",
    "with open(f\"multispec_{ts}.json\", \"wt\") as fp:\n",
    "    json.dump(specs, fp)\n",
    "    \n",
    "# Save data in dataframes\n",
    "led_specs = []\n",
    "led_specs_avg = []\n",
    "led_peaks = []\n",
    "for peaknm, d in specs.items():\n",
    "    avg_spec = np.zeros(len(nm))\n",
    "    ledid = f\"led{peaknm}\"\n",
    "    for mnum, d in enumerate(d):\n",
    "        integ = d[\"integration\"]\n",
    "        aspec = d[\"spec\"]\n",
    "        avg_spec += np.array(aspec)\n",
    "        led_specs += [{\"led\":ledid, \"integ\":integ, \"nm\":n, \"spec\":s}\n",
    "                   for n,s in zip(nm, aspec)]\n",
    "    avg_spec /= mnum + 1\n",
    "    pk, pkidx = find_peak_value(avg_spec)\n",
    "    led_peaks.append({\"led\":ledid, \"peak_spec\":peaknm, \"peak_measured\":nm[pkidx]})\n",
    "    led_specs_avg += [{\"led\":ledid, \"nm\":n, \"spec\":s} for n,s in zip(nm, avg_spec)]\n",
    "           \n",
    "ledpeakdf = pd.DataFrame(led_peaks)\n",
    "specdf = pd.DataFrame(led_specs)\n",
    "avgspecdf = pd.DataFrame(led_specs_avg)\n",
    "ledpeakdf.to_csv(f\"led_peaks_{ts}.csv\", index=False)\n",
    "specdf.to_csv(f\"led_spectra_raw_{ts}.csv\", index=False)\n",
    "avgspecdf.to_csv(f\"led_spectra_{ts}.csv\", index=False)\n",
    "print(ledpeakdf)\n",
    "print(avgspecdf.shape)\n",
    "avgspecdf.head()"
   ]
  },
  {
   "cell_type": "code",
   "execution_count": null,
   "id": "3ca9161e-7c7d-4ffa-964e-d9b11d563083",
   "metadata": {},
   "outputs": [],
   "source": []
  }
 ],
 "metadata": {
  "kernelspec": {
   "display_name": "Python Specenv",
   "language": "python",
   "name": "venv"
  },
  "language_info": {
   "codemirror_mode": {
    "name": "ipython",
    "version": 3
   },
   "file_extension": ".py",
   "mimetype": "text/x-python",
   "name": "python",
   "nbconvert_exporter": "python",
   "pygments_lexer": "ipython3",
   "version": "3.12.5"
  }
 },
 "nbformat": 4,
 "nbformat_minor": 5
}
